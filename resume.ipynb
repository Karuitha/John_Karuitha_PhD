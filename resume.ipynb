{
  "cells": [
    {
      "cell_type": "markdown",
      "metadata": {},
      "source": [
        "```{HTML}\n",
        "<html>\n",
        "      <head>\n",
        "        <title>Title of the document</title>\n",
        "      </head>\n",
        "      <body>\n",
        "        <h1>PDF Example with iframe</h1>\n",
        "    <iframe src=\"resume.pdf\" height=\"800\" width=\"800\"></iframe>\n",
        "    </body>\n",
        "    </html>\n",
        "```"
      ],
      "id": "be47588e"
    }
  ],
  "metadata": {
    "kernelspec": {
      "name": "python3",
      "language": "python",
      "display_name": "Python 3 (ipykernel)"
    }
  },
  "nbformat": 4,
  "nbformat_minor": 5
}